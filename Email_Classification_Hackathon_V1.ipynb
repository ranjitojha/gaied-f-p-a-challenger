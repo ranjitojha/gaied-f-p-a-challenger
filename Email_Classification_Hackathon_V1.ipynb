{
  "nbformat": 4,
  "nbformat_minor": 0,
  "metadata": {
    "colab": {
      "provenance": []
    },
    "kernelspec": {
      "name": "python3",
      "display_name": "Python 3"
    },
    "language_info": {
      "name": "python"
    }
  },
  "cells": [
    {
      "cell_type": "markdown",
      "source": [
        "# Install Dependencies"
      ],
      "metadata": {
        "id": "SZCqhm82ag2F"
      }
    },
    {
      "cell_type": "code",
      "source": [
        "pip install PyMuPDF"
      ],
      "metadata": {
        "colab": {
          "base_uri": "https://localhost:8080/"
        },
        "id": "zGUnaEcMEcd5",
        "outputId": "38e52a9b-94d0-4fa0-9b37-f90550125a51"
      },
      "execution_count": 15,
      "outputs": [
        {
          "output_type": "stream",
          "name": "stdout",
          "text": [
            "Collecting PyMuPDF\n",
            "  Downloading pymupdf-1.25.4-cp39-abi3-manylinux2014_x86_64.manylinux_2_17_x86_64.whl.metadata (3.4 kB)\n",
            "Downloading pymupdf-1.25.4-cp39-abi3-manylinux2014_x86_64.manylinux_2_17_x86_64.whl (20.0 MB)\n",
            "\u001b[2K   \u001b[90m━━━━━━━━━━━━━━━━━━━━━━━━━━━━━━━━━━━━━━━━\u001b[0m \u001b[32m20.0/20.0 MB\u001b[0m \u001b[31m47.4 MB/s\u001b[0m eta \u001b[36m0:00:00\u001b[0m\n",
            "\u001b[?25hInstalling collected packages: PyMuPDF\n",
            "Successfully installed PyMuPDF-1.25.4\n"
          ]
        }
      ]
    },
    {
      "cell_type": "code",
      "source": [
        "pip install python-multipart"
      ],
      "metadata": {
        "colab": {
          "base_uri": "https://localhost:8080/"
        },
        "id": "Ax54zwFudZML",
        "outputId": "603f699e-25f3-4cab-9837-3025b45d568c"
      },
      "execution_count": 6,
      "outputs": [
        {
          "output_type": "stream",
          "name": "stdout",
          "text": [
            "Collecting python-multipart\n",
            "  Downloading python_multipart-0.0.20-py3-none-any.whl.metadata (1.8 kB)\n",
            "Downloading python_multipart-0.0.20-py3-none-any.whl (24 kB)\n",
            "Installing collected packages: python-multipart\n",
            "Successfully installed python-multipart-0.0.20\n"
          ]
        }
      ]
    },
    {
      "cell_type": "code",
      "source": [
        "pip install fastapi uvicorn"
      ],
      "metadata": {
        "colab": {
          "base_uri": "https://localhost:8080/"
        },
        "id": "zfVA8YSpdFRj",
        "outputId": "ad8138ba-eea1-472c-f523-c3f35f275ddd"
      },
      "execution_count": 17,
      "outputs": [
        {
          "output_type": "stream",
          "name": "stdout",
          "text": [
            "Requirement already satisfied: fastapi in /usr/local/lib/python3.11/dist-packages (0.115.12)\n",
            "Requirement already satisfied: uvicorn in /usr/local/lib/python3.11/dist-packages (0.34.0)\n",
            "Requirement already satisfied: starlette<0.47.0,>=0.40.0 in /usr/local/lib/python3.11/dist-packages (from fastapi) (0.46.1)\n",
            "Requirement already satisfied: pydantic!=1.8,!=1.8.1,!=2.0.0,!=2.0.1,!=2.1.0,<3.0.0,>=1.7.4 in /usr/local/lib/python3.11/dist-packages (from fastapi) (2.10.6)\n",
            "Requirement already satisfied: typing-extensions>=4.8.0 in /usr/local/lib/python3.11/dist-packages (from fastapi) (4.12.2)\n",
            "Requirement already satisfied: click>=7.0 in /usr/local/lib/python3.11/dist-packages (from uvicorn) (8.1.8)\n",
            "Requirement already satisfied: h11>=0.8 in /usr/local/lib/python3.11/dist-packages (from uvicorn) (0.14.0)\n",
            "Requirement already satisfied: annotated-types>=0.6.0 in /usr/local/lib/python3.11/dist-packages (from pydantic!=1.8,!=1.8.1,!=2.0.0,!=2.0.1,!=2.1.0,<3.0.0,>=1.7.4->fastapi) (0.7.0)\n",
            "Requirement already satisfied: pydantic-core==2.27.2 in /usr/local/lib/python3.11/dist-packages (from pydantic!=1.8,!=1.8.1,!=2.0.0,!=2.0.1,!=2.1.0,<3.0.0,>=1.7.4->fastapi) (2.27.2)\n",
            "Requirement already satisfied: anyio<5,>=3.6.2 in /usr/local/lib/python3.11/dist-packages (from starlette<0.47.0,>=0.40.0->fastapi) (4.9.0)\n",
            "Requirement already satisfied: idna>=2.8 in /usr/local/lib/python3.11/dist-packages (from anyio<5,>=3.6.2->starlette<0.47.0,>=0.40.0->fastapi) (3.10)\n",
            "Requirement already satisfied: sniffio>=1.1 in /usr/local/lib/python3.11/dist-packages (from anyio<5,>=3.6.2->starlette<0.47.0,>=0.40.0->fastapi) (1.3.1)\n"
          ]
        }
      ]
    },
    {
      "cell_type": "code",
      "source": [
        "pip install bs4 PyMuPDF pytesseract pdf2image"
      ],
      "metadata": {
        "colab": {
          "base_uri": "https://localhost:8080/"
        },
        "id": "cUxUoQlG6eL1",
        "outputId": "f11b20dc-a25e-404f-95da-5f13b0759eea"
      },
      "execution_count": 18,
      "outputs": [
        {
          "output_type": "stream",
          "name": "stdout",
          "text": [
            "Collecting bs4\n",
            "  Downloading bs4-0.0.2-py2.py3-none-any.whl.metadata (411 bytes)\n",
            "Requirement already satisfied: PyMuPDF in /usr/local/lib/python3.11/dist-packages (1.25.4)\n",
            "Requirement already satisfied: pytesseract in /usr/local/lib/python3.11/dist-packages (0.3.13)\n",
            "Collecting pdf2image\n",
            "  Downloading pdf2image-1.17.0-py3-none-any.whl.metadata (6.2 kB)\n",
            "Requirement already satisfied: beautifulsoup4 in /usr/local/lib/python3.11/dist-packages (from bs4) (4.13.3)\n",
            "Requirement already satisfied: packaging>=21.3 in /usr/local/lib/python3.11/dist-packages (from pytesseract) (24.2)\n",
            "Requirement already satisfied: Pillow>=8.0.0 in /usr/local/lib/python3.11/dist-packages (from pytesseract) (11.1.0)\n",
            "Requirement already satisfied: soupsieve>1.2 in /usr/local/lib/python3.11/dist-packages (from beautifulsoup4->bs4) (2.6)\n",
            "Requirement already satisfied: typing-extensions>=4.0.0 in /usr/local/lib/python3.11/dist-packages (from beautifulsoup4->bs4) (4.12.2)\n",
            "Downloading bs4-0.0.2-py2.py3-none-any.whl (1.2 kB)\n",
            "Downloading pdf2image-1.17.0-py3-none-any.whl (11 kB)\n",
            "Installing collected packages: pdf2image, bs4\n",
            "Successfully installed bs4-0.0.2 pdf2image-1.17.0\n"
          ]
        }
      ]
    },
    {
      "cell_type": "markdown",
      "source": [
        "# Extract Email Content"
      ],
      "metadata": {
        "id": "N1H9x1x7aaa2"
      }
    },
    {
      "cell_type": "code",
      "source": [
        "file_path = \"/content/SampleEmail2.eml\"  # Provide your .eml file path"
      ],
      "metadata": {
        "id": "ip8sQRSn9EWV"
      },
      "execution_count": 19,
      "outputs": []
    },
    {
      "cell_type": "markdown",
      "source": [
        "Combine Email & Attachment(\".pdf\",\".txt\",\".png\", \".jpg\", \".jpeg ) Text  for Classification\n",
        "\n",
        "Extracts Email Body (Plain & HTML)\n",
        "Extracts Attachments & Reads Content\n",
        "Extract Images (OCR via Tesseract), Text Files"
      ],
      "metadata": {
        "id": "BC33M4wcbhPM"
      }
    },
    {
      "cell_type": "code",
      "source": [
        "import os\n",
        "import email\n",
        "import base64\n",
        "import fitz  # PyMuPDF\n",
        "import pytesseract\n",
        "from bs4 import BeautifulSoup\n",
        "from pdf2image import convert_from_bytes\n",
        "from email import policy\n",
        "from email.parser import BytesParser\n",
        "\n",
        "def extract_text_from_pdf(pdf_bytes):\n",
        "    \"\"\"Extract text from a PDF file.\"\"\"\n",
        "    pdf_text = \"\"\n",
        "    pdf_document = fitz.open(\"pdf\", pdf_bytes)\n",
        "    for page in pdf_document:\n",
        "        pdf_text += page.get_text(\"text\")\n",
        "    return pdf_text.strip()\n",
        "\n",
        "def extract_text_from_image(image_bytes):\n",
        "    \"\"\"Extract text from an image using OCR.\"\"\"\n",
        "    images = convert_from_bytes(image_bytes)\n",
        "    text = \"\"\n",
        "    for img in images:\n",
        "        text += pytesseract.image_to_string(img)\n",
        "    return text.strip()\n",
        "\n",
        "def read_eml(file_path):\n",
        "    with open(file_path, \"rb\") as f:\n",
        "        msg = BytesParser(policy=policy.default).parse(f)\n",
        "\n",
        "    # Extract headers\n",
        "    subject = msg[\"subject\"]\n",
        "    sender = msg[\"from\"]\n",
        "    recipient = msg[\"to\"]\n",
        "\n",
        "    # Extract body (text or HTML)\n",
        "    body = \"\"\n",
        "    if msg.is_multipart():\n",
        "        for part in msg.walk():\n",
        "            content_type = part.get_content_type()\n",
        "            if content_type == \"text/plain\":\n",
        "                body = part.get_payload(decode=True).decode(errors=\"ignore\")\n",
        "            elif content_type == \"text/html\":\n",
        "                html = part.get_payload(decode=True).decode(errors=\"ignore\")\n",
        "                soup = BeautifulSoup(html, \"html.parser\")\n",
        "                body = soup.get_text()\n",
        "    else:\n",
        "        body = msg.get_payload(decode=True).decode(errors=\"ignore\")\n",
        "\n",
        "    # Extract attachments and process them\n",
        "    attachments = {}\n",
        "    for part in msg.walk():\n",
        "        if part.get_content_disposition() == \"attachment\":\n",
        "            filename = part.get_filename()\n",
        "            attachment_data = part.get_payload(decode=True)\n",
        "\n",
        "            # Process attachment based on file type\n",
        "            if filename.endswith(\".pdf\"):\n",
        "                extracted_text = extract_text_from_pdf(attachment_data)\n",
        "            elif filename.endswith((\".png\", \".jpg\", \".jpeg\")):\n",
        "                extracted_text = extract_text_from_image(attachment_data)\n",
        "            elif filename.endswith(\".txt\"):\n",
        "                extracted_text = attachment_data.decode(errors=\"ignore\")\n",
        "            else:\n",
        "                extracted_text = \"[Unsupported File Type]\"\n",
        "\n",
        "            attachments[filename] = extracted_text\n",
        "\n",
        "    return {\n",
        "        \"subject\": subject,\n",
        "        \"sender\": sender,\n",
        "        \"recipient\": recipient,\n",
        "        \"body\": body,\n",
        "        \"attachments\": attachments\n",
        "    }\n",
        "\n",
        "# Example Usage\n",
        "email_data = read_eml(file_path)\n",
        "\n",
        "email_content = email_data[\"body\"] + \"\\n\".join(email_data[\"attachments\"].values())\n",
        "print(\"\\nEmail Content:\")\n",
        "print(email_content)"
      ],
      "metadata": {
        "id": "qpIiTjHMZ0rX",
        "colab": {
          "base_uri": "https://localhost:8080/"
        },
        "outputId": "4cdefa9b-306a-45c3-d5ee-91133e8bbf02"
      },
      "execution_count": 20,
      "outputs": [
        {
          "output_type": "stream",
          "name": "stdout",
          "text": [
            "\n",
            "Email Content:\n",
            "Dear Mr. Arjun Rao,We have successfully received your request for money movement. Below are the transaction details for your reference:\n",
            "Transaction ID: TXN1234567890\n",
            "Amount: ₹50,000.00\n",
            "Sender's Account: 1234-5678-9012 (State Bank of India)\n",
            "Recipient's Account: 9876-5432-1098 (HDFC Bank)\n",
            "Date of Transaction: 26 March 2025\n",
            "Please verify the details above. If there are any discrepancies, kindly contact us within 24 hours. If everything is accurate, your transaction will be processed within 2 business days.Thank you for choosing FinTrust Services.Best regards,\n",
            "Priya Sharma\n",
            "Customer Support Executive\n",
            "FinTrust Services Pvt. Ltd.\n",
            "Contact: +91 98765 43210\n",
            "Email: support@fintrust.com\n",
            "Feel free to tweak it as needed—would you like me to add anything else?\n",
            "We have successfully received your request for money movement. Below are the transaction \n",
            "details for your reference: \n",
            "●​ Transaction ID: TXN1234567890 \n",
            "●​ Amount: ₹50,000.00 \n",
            "●​ Sender's Account: 1234-5678-9012 (State Bank of India) \n",
            "●​ Recipient's Account: 9876-5432-1098 (HDFC Bank) \n",
            "●​ Date of Transaction: 26 March 2025 \n",
            "Please verify the details above. If there are any discrepancies, kindly contact us within 24 \n",
            "hours. If everything is accurate, your transaction will be processed within 2 business days.\n"
          ]
        }
      ]
    },
    {
      "cell_type": "markdown",
      "source": [
        "Clean Email Content (Remove Greetings, Signatures, Footers)"
      ],
      "metadata": {
        "id": "jkrS52v7btlv"
      }
    },
    {
      "cell_type": "code",
      "source": [
        "import re\n",
        "\n",
        "def clean_email_text(text):\n",
        "    # Convert to lowercase\n",
        "    text = text.lower()\n",
        "    # Remove greetings\n",
        "    text = re.sub(r\"^(hi|hello|dear|hey)[, ]*\", \"\", text, flags=re.MULTILINE)\n",
        "    # Remove email signatures (common closing phrases)\n",
        "    text = re.sub(r\"(best regards|thanks|sincerely|kind regards|cheers)[,\\n]?.*\", \"\", text, flags=re.MULTILINE)\n",
        "    # Remove confidentiality notices (common footer text)\n",
        "    text = re.sub(r\"this email is confidential.*\", \"\", text, flags=re.MULTILINE)\n",
        "    # Remove extra whitespaces\n",
        "    text = re.sub(r\"\\s+\", \" \", text).strip()\n",
        "    return text\n"
      ],
      "metadata": {
        "id": "A9qVwmgrZUqu"
      },
      "execution_count": 21,
      "outputs": []
    },
    {
      "cell_type": "code",
      "source": [
        "final_email_content = clean_email_text(email_content)\n",
        "print(email_content)"
      ],
      "metadata": {
        "colab": {
          "base_uri": "https://localhost:8080/"
        },
        "id": "sLI1FXsPB4UU",
        "outputId": "d1a03108-2780-4951-efb4-2c94f5589999"
      },
      "execution_count": 22,
      "outputs": [
        {
          "output_type": "stream",
          "name": "stdout",
          "text": [
            "Dear Mr. Arjun Rao,We have successfully received your request for money movement. Below are the transaction details for your reference:\n",
            "Transaction ID: TXN1234567890\n",
            "Amount: ₹50,000.00\n",
            "Sender's Account: 1234-5678-9012 (State Bank of India)\n",
            "Recipient's Account: 9876-5432-1098 (HDFC Bank)\n",
            "Date of Transaction: 26 March 2025\n",
            "Please verify the details above. If there are any discrepancies, kindly contact us within 24 hours. If everything is accurate, your transaction will be processed within 2 business days.Thank you for choosing FinTrust Services.Best regards,\n",
            "Priya Sharma\n",
            "Customer Support Executive\n",
            "FinTrust Services Pvt. Ltd.\n",
            "Contact: +91 98765 43210\n",
            "Email: support@fintrust.com\n",
            "Feel free to tweak it as needed—would you like me to add anything else?\n",
            "We have successfully received your request for money movement. Below are the transaction \n",
            "details for your reference: \n",
            "●​ Transaction ID: TXN1234567890 \n",
            "●​ Amount: ₹50,000.00 \n",
            "●​ Sender's Account: 1234-5678-9012 (State Bank of India) \n",
            "●​ Recipient's Account: 9876-5432-1098 (HDFC Bank) \n",
            "●​ Date of Transaction: 26 March 2025 \n",
            "Please verify the details above. If there are any discrepancies, kindly contact us within 24 \n",
            "hours. If everything is accurate, your transaction will be processed within 2 business days.\n"
          ]
        }
      ]
    },
    {
      "cell_type": "code",
      "execution_count": 34,
      "metadata": {
        "colab": {
          "base_uri": "https://localhost:8080/"
        },
        "id": "1cd4139eWe5q",
        "outputId": "08021ced-660e-486e-9954-3891833e535d"
      },
      "outputs": [
        {
          "output_type": "stream",
          "name": "stdout",
          "text": [
            "Requirement already satisfied: transformers in /usr/local/lib/python3.11/dist-packages (4.50.0)\n",
            "Requirement already satisfied: datasets in /usr/local/lib/python3.11/dist-packages (3.4.1)\n",
            "Requirement already satisfied: torch in /usr/local/lib/python3.11/dist-packages (2.6.0+cu124)\n",
            "Requirement already satisfied: pdfplumber in /usr/local/lib/python3.11/dist-packages (0.11.5)\n",
            "Requirement already satisfied: pytesseract in /usr/local/lib/python3.11/dist-packages (0.3.13)\n",
            "Requirement already satisfied: openai-whisper in /usr/local/lib/python3.11/dist-packages (20240930)\n",
            "Requirement already satisfied: filelock in /usr/local/lib/python3.11/dist-packages (from transformers) (3.18.0)\n",
            "Requirement already satisfied: huggingface-hub<1.0,>=0.26.0 in /usr/local/lib/python3.11/dist-packages (from transformers) (0.29.3)\n",
            "Requirement already satisfied: numpy>=1.17 in /usr/local/lib/python3.11/dist-packages (from transformers) (2.0.2)\n",
            "Requirement already satisfied: packaging>=20.0 in /usr/local/lib/python3.11/dist-packages (from transformers) (24.2)\n",
            "Requirement already satisfied: pyyaml>=5.1 in /usr/local/lib/python3.11/dist-packages (from transformers) (6.0.2)\n",
            "Requirement already satisfied: regex!=2019.12.17 in /usr/local/lib/python3.11/dist-packages (from transformers) (2024.11.6)\n",
            "Requirement already satisfied: requests in /usr/local/lib/python3.11/dist-packages (from transformers) (2.32.3)\n",
            "Requirement already satisfied: tokenizers<0.22,>=0.21 in /usr/local/lib/python3.11/dist-packages (from transformers) (0.21.1)\n",
            "Requirement already satisfied: safetensors>=0.4.3 in /usr/local/lib/python3.11/dist-packages (from transformers) (0.5.3)\n",
            "Requirement already satisfied: tqdm>=4.27 in /usr/local/lib/python3.11/dist-packages (from transformers) (4.67.1)\n",
            "Requirement already satisfied: pyarrow>=15.0.0 in /usr/local/lib/python3.11/dist-packages (from datasets) (18.1.0)\n",
            "Requirement already satisfied: dill<0.3.9,>=0.3.0 in /usr/local/lib/python3.11/dist-packages (from datasets) (0.3.8)\n",
            "Requirement already satisfied: pandas in /usr/local/lib/python3.11/dist-packages (from datasets) (2.2.2)\n",
            "Requirement already satisfied: xxhash in /usr/local/lib/python3.11/dist-packages (from datasets) (3.5.0)\n",
            "Requirement already satisfied: multiprocess<0.70.17 in /usr/local/lib/python3.11/dist-packages (from datasets) (0.70.16)\n",
            "Requirement already satisfied: fsspec<=2024.12.0,>=2023.1.0 in /usr/local/lib/python3.11/dist-packages (from fsspec[http]<=2024.12.0,>=2023.1.0->datasets) (2024.12.0)\n",
            "Requirement already satisfied: aiohttp in /usr/local/lib/python3.11/dist-packages (from datasets) (3.11.14)\n",
            "Requirement already satisfied: typing-extensions>=4.10.0 in /usr/local/lib/python3.11/dist-packages (from torch) (4.12.2)\n",
            "Requirement already satisfied: networkx in /usr/local/lib/python3.11/dist-packages (from torch) (3.4.2)\n",
            "Requirement already satisfied: jinja2 in /usr/local/lib/python3.11/dist-packages (from torch) (3.1.6)\n",
            "Requirement already satisfied: nvidia-cuda-nvrtc-cu12==12.4.127 in /usr/local/lib/python3.11/dist-packages (from torch) (12.4.127)\n",
            "Requirement already satisfied: nvidia-cuda-runtime-cu12==12.4.127 in /usr/local/lib/python3.11/dist-packages (from torch) (12.4.127)\n",
            "Requirement already satisfied: nvidia-cuda-cupti-cu12==12.4.127 in /usr/local/lib/python3.11/dist-packages (from torch) (12.4.127)\n",
            "Requirement already satisfied: nvidia-cudnn-cu12==9.1.0.70 in /usr/local/lib/python3.11/dist-packages (from torch) (9.1.0.70)\n",
            "Requirement already satisfied: nvidia-cublas-cu12==12.4.5.8 in /usr/local/lib/python3.11/dist-packages (from torch) (12.4.5.8)\n",
            "Requirement already satisfied: nvidia-cufft-cu12==11.2.1.3 in /usr/local/lib/python3.11/dist-packages (from torch) (11.2.1.3)\n",
            "Requirement already satisfied: nvidia-curand-cu12==10.3.5.147 in /usr/local/lib/python3.11/dist-packages (from torch) (10.3.5.147)\n",
            "Requirement already satisfied: nvidia-cusolver-cu12==11.6.1.9 in /usr/local/lib/python3.11/dist-packages (from torch) (11.6.1.9)\n",
            "Requirement already satisfied: nvidia-cusparse-cu12==12.3.1.170 in /usr/local/lib/python3.11/dist-packages (from torch) (12.3.1.170)\n",
            "Requirement already satisfied: nvidia-cusparselt-cu12==0.6.2 in /usr/local/lib/python3.11/dist-packages (from torch) (0.6.2)\n",
            "Requirement already satisfied: nvidia-nccl-cu12==2.21.5 in /usr/local/lib/python3.11/dist-packages (from torch) (2.21.5)\n",
            "Requirement already satisfied: nvidia-nvtx-cu12==12.4.127 in /usr/local/lib/python3.11/dist-packages (from torch) (12.4.127)\n",
            "Requirement already satisfied: nvidia-nvjitlink-cu12==12.4.127 in /usr/local/lib/python3.11/dist-packages (from torch) (12.4.127)\n",
            "Requirement already satisfied: triton==3.2.0 in /usr/local/lib/python3.11/dist-packages (from torch) (3.2.0)\n",
            "Requirement already satisfied: sympy==1.13.1 in /usr/local/lib/python3.11/dist-packages (from torch) (1.13.1)\n",
            "Requirement already satisfied: mpmath<1.4,>=1.1.0 in /usr/local/lib/python3.11/dist-packages (from sympy==1.13.1->torch) (1.3.0)\n",
            "Requirement already satisfied: pdfminer.six==20231228 in /usr/local/lib/python3.11/dist-packages (from pdfplumber) (20231228)\n",
            "Requirement already satisfied: Pillow>=9.1 in /usr/local/lib/python3.11/dist-packages (from pdfplumber) (11.1.0)\n",
            "Requirement already satisfied: pypdfium2>=4.18.0 in /usr/local/lib/python3.11/dist-packages (from pdfplumber) (4.30.1)\n",
            "Requirement already satisfied: charset-normalizer>=2.0.0 in /usr/local/lib/python3.11/dist-packages (from pdfminer.six==20231228->pdfplumber) (3.4.1)\n",
            "Requirement already satisfied: cryptography>=36.0.0 in /usr/local/lib/python3.11/dist-packages (from pdfminer.six==20231228->pdfplumber) (43.0.3)\n",
            "Requirement already satisfied: numba in /usr/local/lib/python3.11/dist-packages (from openai-whisper) (0.60.0)\n",
            "Requirement already satisfied: more-itertools in /usr/local/lib/python3.11/dist-packages (from openai-whisper) (10.6.0)\n",
            "Requirement already satisfied: tiktoken in /usr/local/lib/python3.11/dist-packages (from openai-whisper) (0.9.0)\n",
            "Requirement already satisfied: aiohappyeyeballs>=2.3.0 in /usr/local/lib/python3.11/dist-packages (from aiohttp->datasets) (2.6.1)\n",
            "Requirement already satisfied: aiosignal>=1.1.2 in /usr/local/lib/python3.11/dist-packages (from aiohttp->datasets) (1.3.2)\n",
            "Requirement already satisfied: attrs>=17.3.0 in /usr/local/lib/python3.11/dist-packages (from aiohttp->datasets) (25.3.0)\n",
            "Requirement already satisfied: frozenlist>=1.1.1 in /usr/local/lib/python3.11/dist-packages (from aiohttp->datasets) (1.5.0)\n",
            "Requirement already satisfied: multidict<7.0,>=4.5 in /usr/local/lib/python3.11/dist-packages (from aiohttp->datasets) (6.2.0)\n",
            "Requirement already satisfied: propcache>=0.2.0 in /usr/local/lib/python3.11/dist-packages (from aiohttp->datasets) (0.3.0)\n",
            "Requirement already satisfied: yarl<2.0,>=1.17.0 in /usr/local/lib/python3.11/dist-packages (from aiohttp->datasets) (1.18.3)\n",
            "Requirement already satisfied: idna<4,>=2.5 in /usr/local/lib/python3.11/dist-packages (from requests->transformers) (3.10)\n",
            "Requirement already satisfied: urllib3<3,>=1.21.1 in /usr/local/lib/python3.11/dist-packages (from requests->transformers) (2.3.0)\n",
            "Requirement already satisfied: certifi>=2017.4.17 in /usr/local/lib/python3.11/dist-packages (from requests->transformers) (2025.1.31)\n",
            "Requirement already satisfied: MarkupSafe>=2.0 in /usr/local/lib/python3.11/dist-packages (from jinja2->torch) (3.0.2)\n",
            "Requirement already satisfied: llvmlite<0.44,>=0.43.0dev0 in /usr/local/lib/python3.11/dist-packages (from numba->openai-whisper) (0.43.0)\n",
            "Requirement already satisfied: python-dateutil>=2.8.2 in /usr/local/lib/python3.11/dist-packages (from pandas->datasets) (2.8.2)\n",
            "Requirement already satisfied: pytz>=2020.1 in /usr/local/lib/python3.11/dist-packages (from pandas->datasets) (2025.1)\n",
            "Requirement already satisfied: tzdata>=2022.7 in /usr/local/lib/python3.11/dist-packages (from pandas->datasets) (2025.1)\n",
            "Requirement already satisfied: cffi>=1.12 in /usr/local/lib/python3.11/dist-packages (from cryptography>=36.0.0->pdfminer.six==20231228->pdfplumber) (1.17.1)\n",
            "Requirement already satisfied: six>=1.5 in /usr/local/lib/python3.11/dist-packages (from python-dateutil>=2.8.2->pandas->datasets) (1.17.0)\n",
            "Requirement already satisfied: pycparser in /usr/local/lib/python3.11/dist-packages (from cffi>=1.12->cryptography>=36.0.0->pdfminer.six==20231228->pdfplumber) (2.22)\n"
          ]
        }
      ],
      "source": [
        "pip install transformers datasets torch pdfplumber pytesseract openai-whisper\n"
      ]
    },
    {
      "cell_type": "code",
      "source": [
        "def extract_details(text):\n",
        "    details = {}\n",
        "\n",
        "    # Extract bank name\n",
        "    bank_match = re.search(r'current bank name:\\s*(.*)', text, re.IGNORECASE)\n",
        "    if bank_match:\n",
        "        details['Bank Name'] = bank_match.group(1)\n",
        "\n",
        "    # Extract account number\n",
        "    account_match = re.search(r'account number:\\s*(\\d+)', text, re.IGNORECASE)\n",
        "    if account_match:\n",
        "        details['Account Number'] = account_match.group(1)\n",
        "\n",
        "    # Extract account name\n",
        "    account_name_match = re.search(r'account name:\\s*(.*)', text, re.IGNORECASE)\n",
        "    if account_name_match:\n",
        "        details['Account Name'] = account_name_match.group(1)\n",
        "\n",
        "    # Extract deal name\n",
        "    deal_match = re.search(r'deal name:\\s*(.*)', text, re.IGNORECASE)\n",
        "    if deal_match:\n",
        "        details['Deal Name'] = deal_match.group(1)\n",
        "\n",
        "    # Extract the amount if the pattern is found\n",
        "    amount = re.search(r'Amount:\\s*₹([\\d,]+\\.\\d{2})', text, re.IGNORECASE)\n",
        "    if amount:\n",
        "          details['amount'] = amount.group(1)\n",
        "\n",
        "    return json.dumps(details, indent=4)\n"
      ],
      "metadata": {
        "id": "s4zmUGSwCmcP"
      },
      "execution_count": 29,
      "outputs": []
    },
    {
      "cell_type": "code",
      "source": [
        "# Extract and print details\n",
        "details = extract_details(email_content)\n",
        "print(details)"
      ],
      "metadata": {
        "colab": {
          "base_uri": "https://localhost:8080/"
        },
        "id": "auO_oKqfC1BT",
        "outputId": "c64fb4f2-2056-409e-a0a3-56a9a22d6c5f"
      },
      "execution_count": 30,
      "outputs": [
        {
          "output_type": "stream",
          "name": "stdout",
          "text": [
            "{\n",
            "    \"amount\": \"50,000.00\"\n",
            "}\n"
          ]
        }
      ]
    },
    {
      "cell_type": "markdown",
      "source": [
        "# Classify Emails Using Hugging Face Model"
      ],
      "metadata": {
        "id": "z8zhaljmbzLU"
      }
    },
    {
      "cell_type": "code",
      "source": [
        "from transformers import pipeline\n",
        "import re\n",
        "\n",
        "# Load Zero-Shot Classification Model\n",
        "classifier = pipeline(\"zero-shot-classification\", model=\"facebook/bart-large-mnli\")\n",
        "\n",
        "# Define Categories\n",
        "request_types = [\"Adjustment\",\"Money Movement Inbound\", \"AU Transfer\", \"Closing Notice\", \"Commitment Change\", \"Fee Payment\",\"loan transfer\",\"money movement\"]\n",
        "request_sub_types = {\n",
        "    \"Adjustment\": [\"Adjustment\"],\n",
        "    \"Money Movement Inbound\": [\"Money Movement Inbound\"],\n",
        "    \"AU Transfer\": [\"AU Transfer\"],\n",
        "    \"Closing Notice\": [\"Reallocation Fees\", \"Amendment Fees\", \"Reallocation Principal\"],\n",
        "    \"Commitment Change\": [\"Cashless Roll\", \"Decrease\", \"Increase\"],\n",
        "    \"Fee Payment\": [\"Ongoing Fee\", \"Letter of Credit Fee\"],\n",
        "    \"loan transfer\": [\"loan transfer\"],\n",
        "    \"money movement\":[\"money movement\"]\n",
        "}\n",
        "\n",
        "# Define Priority Rules\n",
        "priority_map = {\n",
        "    \"Closing Notice\": \"High\",\n",
        "    \"Commitment Change\": \"Medium\",\n",
        "    \"Fee Payment\": \"Low\"\n",
        "}\n",
        "\n",
        "\n",
        "# Email Classification Function\n",
        "def classify_email(final_email):\n",
        "    text = clean_email_text(final_email)\n",
        "    # Step 1: Predict Request Type\n",
        "    type_result = classifier(text, candidate_labels=request_types)\n",
        "    request_type = type_result[\"labels\"][0]\n",
        "    request_type_confidence = type_result[\"scores\"][0]\n",
        "\n",
        "    # Step 2: Predict Request Sub-Type\n",
        "    sub_type_result = classifier(text, candidate_labels=request_sub_types[request_type])\n",
        "    request_sub_type = sub_type_result[\"labels\"][0]\n",
        "    request_sub_type_confidence = sub_type_result[\"scores\"][0]\n",
        "\n",
        "    # Step 3: Assign Priority\n",
        "    priority = priority_map.get(request_sub_type, \"Low\")\n",
        "\n",
        "    # Step 4: Extract Fields\n",
        "    extracted_fields = extract_details(final_email)\n",
        "\n",
        "    return {\n",
        "        \"request_type\": request_type,\n",
        "        \"request_type_confidence\": round(request_type_confidence * 100, 2),\n",
        "        \"request_sub_type\": request_sub_type,\n",
        "        \"request_sub_type_confidence\": round(request_sub_type_confidence * 100, 2),\n",
        "        \"priority\": priority,\n",
        "        \"extracted_fields\": extracted_fields\n",
        "    }\n"
      ],
      "metadata": {
        "colab": {
          "base_uri": "https://localhost:8080/"
        },
        "id": "ycus6oyxb3FY",
        "outputId": "71aa855f-78c4-4338-a160-ed5abd79ddcd"
      },
      "execution_count": 35,
      "outputs": [
        {
          "output_type": "stream",
          "name": "stderr",
          "text": [
            "Device set to use cpu\n"
          ]
        }
      ]
    },
    {
      "cell_type": "markdown",
      "source": [],
      "metadata": {
        "id": "63ocXNn702Se"
      }
    },
    {
      "cell_type": "code",
      "source": [
        "import json"
      ],
      "metadata": {
        "id": "mTdNwTtK5GWc"
      },
      "execution_count": 36,
      "outputs": []
    },
    {
      "cell_type": "code",
      "source": [
        "classification = classify_email(email_content)\n",
        "#print(classification)\n",
        "print(json.dumps(classification, indent=4))"
      ],
      "metadata": {
        "colab": {
          "base_uri": "https://localhost:8080/"
        },
        "id": "jHE8tasQv-rZ",
        "outputId": "e19ad563-c37d-433a-a7ae-2ee6ddf9c7ed"
      },
      "execution_count": 37,
      "outputs": [
        {
          "output_type": "stream",
          "name": "stdout",
          "text": [
            "{\n",
            "    \"request_type\": \"money movement\",\n",
            "    \"request_type_confidence\": 73.08,\n",
            "    \"request_sub_type\": \"money movement\",\n",
            "    \"request_sub_type_confidence\": 99.52,\n",
            "    \"priority\": \"Low\",\n",
            "    \"extracted_fields\": \"{\\n    \\\"amount\\\": \\\"50,000.00\\\"\\n}\"\n",
            "}\n"
          ]
        }
      ]
    },
    {
      "cell_type": "code",
      "source": [],
      "metadata": {
        "id": "HLipByst1hcI"
      },
      "execution_count": null,
      "outputs": []
    }
  ]
}